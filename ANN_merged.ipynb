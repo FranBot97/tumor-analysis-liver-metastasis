{
  "nbformat": 4,
  "nbformat_minor": 0,
  "metadata": {
    "colab": {
      "provenance": [],
      "gpuType": "T4"
    },
    "kernelspec": {
      "name": "python3",
      "display_name": "Python 3"
    },
    "language_info": {
      "name": "python"
    },
    "accelerator": "GPU",
    "gpuClass": "standard"
  },
  "cells": [
    {
      "cell_type": "code",
      "execution_count": 52,
      "metadata": {
        "colab": {
          "base_uri": "https://localhost:8080/"
        },
        "id": "l4E5Yo_FZGvH",
        "outputId": "938c18d7-0f0e-4fb2-98a2-96166b467eaa"
      },
      "outputs": [
        {
          "output_type": "stream",
          "name": "stdout",
          "text": [
            "Drive already mounted at /content/gdrive; to attempt to forcibly remount, call drive.mount(\"/content/gdrive\", force_remount=True).\n"
          ]
        }
      ],
      "source": [
        "from google.colab import drive\n",
        "\n",
        "drive.mount('/content/gdrive')"
      ]
    },
    {
      "cell_type": "code",
      "source": [
        "%cd 'gdrive/MyDrive/Colab Notebooks/CHL/semester-project'\n",
        "%ls"
      ],
      "metadata": {
        "colab": {
          "base_uri": "https://localhost:8080/"
        },
        "id": "G3x2d-3jj1Ka",
        "outputId": "ac449d94-b6cb-410d-da62-0580fce02089"
      },
      "execution_count": 53,
      "outputs": [
        {
          "output_type": "stream",
          "name": "stdout",
          "text": [
            "[Errno 2] No such file or directory: 'gdrive/MyDrive/Colab Notebooks/CHL/semester-project'\n",
            "/content/gdrive/MyDrive/Colab Notebooks/CHL/semester-project\n",
            "ANN-merged.ipynb  ANN-mut-complete.ipynb  \u001b[0m\u001b[01;34mdataset\u001b[0m/\n"
          ]
        }
      ]
    },
    {
      "cell_type": "markdown",
      "source": [
        "## Libraries"
      ],
      "metadata": {
        "id": "2Q2tTdYIkAiB"
      }
    },
    {
      "cell_type": "code",
      "source": [
        "import tensorflow as tf\n",
        "from tensorflow.keras.callbacks import EarlyStopping\n",
        "from sklearn.model_selection import train_test_split, GridSearchCV\n",
        "from sklearn.preprocessing import MinMaxScaler\n",
        "from tensorflow.keras.wrappers.scikit_learn import KerasClassifier\n",
        "from sklearn.metrics import accuracy_score, roc_curve, auc, f1_score\n",
        "import numpy as np\n",
        "import pandas as pd\n"
      ],
      "metadata": {
        "id": "XD40P9Vej_KC"
      },
      "execution_count": 54,
      "outputs": []
    },
    {
      "cell_type": "code",
      "source": [
        "np.random.seed(42)"
      ],
      "metadata": {
        "id": "CWIsdkBlkGxi"
      },
      "execution_count": 55,
      "outputs": []
    },
    {
      "cell_type": "markdown",
      "source": [
        "## Data Processing"
      ],
      "metadata": {
        "id": "DRhc1_x3kJCZ"
      }
    },
    {
      "cell_type": "code",
      "source": [
        "df = pd.read_csv(\"dataset/merged.csv\", index_col=False)\n",
        "df = df.drop(\"Unnamed: 0\", axis=1)\n",
        "# print(df.head())\n",
        "\n",
        "# exit()\n",
        "\n",
        "df = df.loc[:, ~df.columns.isin(['AccessionNumber', '1stpfs event', 'dpfs', 'dos'])]\n",
        "# df = df[df[\"safety\"]==1] #select safety analysis\n",
        "# df = df.drop('PatientCode',axis=1) #drop one row with Nan value\n",
        "# df = df[~df.isin([-99]).any(axis=1)] #drop any rows with -99 value\n",
        "# # For now, remove all rows with Nan values\n",
        "# # remove rows with NaN values, it's actually only one row\n",
        "# df = df.dropna()\n",
        "\n",
        "print(len(df))"
      ],
      "metadata": {
        "colab": {
          "base_uri": "https://localhost:8080/"
        },
        "id": "OCbQ2ZK2kKj4",
        "outputId": "9411b75f-e459-42c3-8964-bac1d9079dc3"
      },
      "execution_count": 56,
      "outputs": [
        {
          "output_type": "stream",
          "name": "stdout",
          "text": [
            "296\n"
          ]
        }
      ]
    },
    {
      "cell_type": "code",
      "source": [
        "train, test = train_test_split(df, test_size=0.2, random_state=42)\n",
        "# train, validation = train_test_split(train, teast_size=0.1, random_state=42)"
      ],
      "metadata": {
        "id": "RmTipjvCkPXR"
      },
      "execution_count": 57,
      "outputs": []
    },
    {
      "cell_type": "code",
      "source": [
        "# Separate the target variable from the features\n",
        "y_train = train['os event']\n",
        "X_train = train.drop('os event', axis=1)\n",
        "# y_val = validation[\"os event\"]\n",
        "# X_val = validation.drop(\"os event\", axis=1)\n",
        "y_test = test['os event']\n",
        "X_test = test.drop('os event', axis=1)"
      ],
      "metadata": {
        "id": "mupyoUJlkP42"
      },
      "execution_count": 58,
      "outputs": []
    },
    {
      "cell_type": "markdown",
      "source": [
        "## Normalizing Data"
      ],
      "metadata": {
        "id": "3e1IbP8ukTCf"
      }
    },
    {
      "cell_type": "code",
      "source": [
        "scaler = MinMaxScaler()\n",
        "X_train = scaler.fit_transform(X_train)\n",
        "# X_val = scaler.transform(X_val)\n",
        "X_test = scaler.transform(X_test)"
      ],
      "metadata": {
        "id": "96pciRRmkVMW"
      },
      "execution_count": 59,
      "outputs": []
    },
    {
      "cell_type": "markdown",
      "source": [
        "## ANN Model"
      ],
      "metadata": {
        "id": "tKoaMZRokY1M"
      }
    },
    {
      "cell_type": "code",
      "source": [
        "early_stopping_monitor = EarlyStopping(\n",
        "    monitor=\"val_loss\",\n",
        "    verbose=1,\n",
        "    patience=5,\n",
        "    restore_best_weights=True\n",
        ")"
      ],
      "metadata": {
        "id": "57V32D9hkcOB"
      },
      "execution_count": 60,
      "outputs": []
    },
    {
      "cell_type": "code",
      "source": [
        "num_features = X_train.shape[1]\n",
        "\n",
        "def create_model():\n",
        "  model = tf.keras.Sequential()\n",
        "\n",
        "  model.add(tf.keras.Input((num_features,)))\n",
        "  model.add(tf.keras.layers.Dense(8))\n",
        "  model.add(tf.keras.layers.Activation(\"relu\"))\n",
        "  model.add(tf.keras.layers.Dense(16))\n",
        "  model.add(tf.keras.layers.Activation(\"relu\"))\n",
        "  model.add(tf.keras.layers.Dense(16))\n",
        "  model.add(tf.keras.layers.Activation(\"relu\"))\n",
        "  model.add(tf.keras.layers.Dense(8))\n",
        "  model.add(tf.keras.layers.Activation(\"relu\"))\n",
        "  model.add(tf.keras.layers.Dense(1))\n",
        "  model.add(tf.keras.layers.Activation(\"sigmoid\"))\n",
        "\n",
        "  model.compile(loss='binary_crossentropy', optimizer='adam', metrics=['accuracy'])\n",
        "\n",
        "  return model"
      ],
      "metadata": {
        "id": "c37kSMHOkcLA"
      },
      "execution_count": 61,
      "outputs": []
    },
    {
      "cell_type": "code",
      "source": [
        "model = KerasClassifier(build_fn=create_model, verbose=1)\n",
        "# define the grid search parameters\n",
        "batch_size = [4, 8, 16, 32, 64]\n",
        "epochs = [5, 7, 10, 12, 15, 17, 20]\n",
        "param_grid = dict(batch_size=batch_size, epochs=epochs)\n",
        "\n",
        "\n",
        "# model_history = model.fit(X_train, y_train, batch_size=32, epochs=20, validation_data=(X_val, y_val), callbacks=[early_stopping_monitor])\n",
        "\n",
        "\n",
        "grid = GridSearchCV(estimator=model, param_grid=param_grid, n_jobs=-1, cv=3)\n",
        "grid_result = grid.fit(X_train, y_train)\n",
        "# summarize results\n",
        "print(\"Best: %f using %s\" % (grid_result.best_score_, grid_result.best_params_))\n",
        "means = grid_result.cv_results_['mean_test_score']\n",
        "stds = grid_result.cv_results_['std_test_score']\n",
        "params = grid_result.cv_results_['params']\n",
        "for mean, stdev, param in zip(means, stds, params):\n",
        "    print(\"%f (%f) with: %r\" % (mean, stdev, param))"
      ],
      "metadata": {
        "colab": {
          "base_uri": "https://localhost:8080/"
        },
        "id": "BRZYWma_kcIC",
        "outputId": "c01d1725-2816-4a86-f4dc-793608cb298b"
      },
      "execution_count": 62,
      "outputs": [
        {
          "output_type": "stream",
          "name": "stderr",
          "text": [
            "<ipython-input-62-7a9a9f458f0e>:1: DeprecationWarning: KerasClassifier is deprecated, use Sci-Keras (https://github.com/adriangb/scikeras) instead. See https://www.adriangb.com/scikeras/stable/migration.html for help migrating.\n",
            "  model = KerasClassifier(build_fn=create_model, verbose=1)\n",
            "/usr/local/lib/python3.10/dist-packages/joblib/externals/loky/process_executor.py:700: UserWarning: A worker stopped while some jobs were given to the executor. This can be caused by a too short worker timeout or by a memory leak.\n",
            "  warnings.warn(\n"
          ]
        },
        {
          "output_type": "stream",
          "name": "stdout",
          "text": [
            "Epoch 1/17\n",
            "59/59 [==============================] - 3s 3ms/step - loss: 0.6762 - accuracy: 0.6483\n",
            "Epoch 2/17\n",
            "59/59 [==============================] - 0s 3ms/step - loss: 0.6385 - accuracy: 0.6737\n",
            "Epoch 3/17\n",
            "59/59 [==============================] - 0s 3ms/step - loss: 0.6187 - accuracy: 0.6737\n",
            "Epoch 4/17\n",
            "59/59 [==============================] - 0s 3ms/step - loss: 0.6049 - accuracy: 0.6737\n",
            "Epoch 5/17\n",
            "59/59 [==============================] - 0s 3ms/step - loss: 0.5881 - accuracy: 0.6780\n",
            "Epoch 6/17\n",
            "59/59 [==============================] - 0s 3ms/step - loss: 0.5671 - accuracy: 0.6992\n",
            "Epoch 7/17\n",
            "59/59 [==============================] - 0s 3ms/step - loss: 0.5481 - accuracy: 0.7415\n",
            "Epoch 8/17\n",
            "59/59 [==============================] - 0s 4ms/step - loss: 0.5380 - accuracy: 0.7542\n",
            "Epoch 9/17\n",
            "59/59 [==============================] - 0s 4ms/step - loss: 0.5297 - accuracy: 0.7585\n",
            "Epoch 10/17\n",
            "59/59 [==============================] - 0s 3ms/step - loss: 0.5242 - accuracy: 0.7542\n",
            "Epoch 11/17\n",
            "59/59 [==============================] - 0s 3ms/step - loss: 0.5214 - accuracy: 0.7669\n",
            "Epoch 12/17\n",
            "59/59 [==============================] - 0s 3ms/step - loss: 0.5126 - accuracy: 0.7542\n",
            "Epoch 13/17\n",
            "59/59 [==============================] - 0s 3ms/step - loss: 0.5243 - accuracy: 0.7542\n",
            "Epoch 14/17\n",
            "59/59 [==============================] - 0s 4ms/step - loss: 0.5121 - accuracy: 0.7669\n",
            "Epoch 15/17\n",
            "59/59 [==============================] - 0s 3ms/step - loss: 0.5133 - accuracy: 0.7627\n",
            "Epoch 16/17\n",
            "59/59 [==============================] - 0s 3ms/step - loss: 0.5077 - accuracy: 0.7627\n",
            "Epoch 17/17\n",
            "59/59 [==============================] - 0s 3ms/step - loss: 0.4988 - accuracy: 0.7754\n",
            "Best: 0.745754 using {'batch_size': 4, 'epochs': 17}\n",
            "0.669209 (0.059408) with: {'batch_size': 4, 'epochs': 5}\n",
            "0.715947 (0.057751) with: {'batch_size': 4, 'epochs': 7}\n",
            "0.690306 (0.074555) with: {'batch_size': 4, 'epochs': 10}\n",
            "0.686195 (0.070091) with: {'batch_size': 4, 'epochs': 12}\n",
            "0.716001 (0.049435) with: {'batch_size': 4, 'epochs': 15}\n",
            "0.745754 (0.062031) with: {'batch_size': 4, 'epochs': 17}\n",
            "0.711782 (0.063523) with: {'batch_size': 4, 'epochs': 20}\n",
            "0.669209 (0.047408) with: {'batch_size': 8, 'epochs': 5}\n",
            "0.673429 (0.054205) with: {'batch_size': 8, 'epochs': 7}\n",
            "0.656443 (0.076369) with: {'batch_size': 8, 'epochs': 10}\n",
            "0.690306 (0.074555) with: {'batch_size': 8, 'epochs': 12}\n",
            "0.694796 (0.055373) with: {'batch_size': 8, 'epochs': 15}\n",
            "0.694580 (0.069606) with: {'batch_size': 8, 'epochs': 17}\n",
            "0.716001 (0.049435) with: {'batch_size': 8, 'epochs': 20}\n",
            "0.686087 (0.069257) with: {'batch_size': 16, 'epochs': 5}\n",
            "0.673429 (0.054205) with: {'batch_size': 16, 'epochs': 7}\n",
            "0.681867 (0.059764) with: {'batch_size': 16, 'epochs': 10}\n",
            "0.664990 (0.053943) with: {'batch_size': 16, 'epochs': 12}\n",
            "0.690306 (0.074555) with: {'batch_size': 16, 'epochs': 15}\n",
            "0.673429 (0.058926) with: {'batch_size': 16, 'epochs': 17}\n",
            "0.724386 (0.060650) with: {'batch_size': 16, 'epochs': 20}\n",
            "0.673429 (0.054205) with: {'batch_size': 32, 'epochs': 5}\n",
            "0.690306 (0.065396) with: {'batch_size': 32, 'epochs': 7}\n",
            "0.673429 (0.054205) with: {'batch_size': 32, 'epochs': 10}\n",
            "0.673429 (0.054205) with: {'batch_size': 32, 'epochs': 12}\n",
            "0.673429 (0.054205) with: {'batch_size': 32, 'epochs': 15}\n",
            "0.694580 (0.064010) with: {'batch_size': 32, 'epochs': 17}\n",
            "0.681867 (0.064077) with: {'batch_size': 32, 'epochs': 20}\n",
            "0.669155 (0.059836) with: {'batch_size': 64, 'epochs': 5}\n",
            "0.673429 (0.054205) with: {'batch_size': 64, 'epochs': 7}\n",
            "0.677702 (0.048673) with: {'batch_size': 64, 'epochs': 10}\n",
            "0.681867 (0.057020) with: {'batch_size': 64, 'epochs': 12}\n",
            "0.686087 (0.069257) with: {'batch_size': 64, 'epochs': 15}\n",
            "0.673429 (0.054205) with: {'batch_size': 64, 'epochs': 17}\n",
            "0.681921 (0.049537) with: {'batch_size': 64, 'epochs': 20}\n"
          ]
        }
      ]
    },
    {
      "cell_type": "code",
      "source": [
        "# model.summary()\n",
        "print(\"Tuned ANN Parameters: {}\".format(grid_result.best_params_))\n",
        "print(\"Best score on validation is {}\".format(grid_result.best_score_))\n",
        "train_grid_predictions = grid_result.predict(X_train)\n",
        "grid_predictions = grid_result.predict(X_test)"
      ],
      "metadata": {
        "colab": {
          "base_uri": "https://localhost:8080/"
        },
        "id": "SaEMUAhrkaKc",
        "outputId": "63e1821a-0034-4d40-9047-6df9836aa3f4"
      },
      "execution_count": 63,
      "outputs": [
        {
          "output_type": "stream",
          "name": "stdout",
          "text": [
            "Tuned ANN Parameters: {'batch_size': 4, 'epochs': 17}\n",
            "Best score on validation is 0.745753546555837\n",
            "8/8 [==============================] - 0s 2ms/step\n",
            "2/2 [==============================] - 0s 5ms/step\n"
          ]
        }
      ]
    },
    {
      "cell_type": "code",
      "source": [
        "acc = accuracy_score(y_train, train_grid_predictions)\n",
        "fpr, tpr, threshold = roc_curve(y_train, train_grid_predictions)\n",
        "auc_score = auc(fpr, tpr)\n",
        "f1_score_train = f1_score(y_train, train_grid_predictions, zero_division=1)\n",
        "\n",
        "print(\"Metrics on Training Set\")\n",
        "print(\"Accuracy: \", acc)\n",
        "print(\"AUC score: \", auc_score)\n",
        "print(\"F1 score: \", f1_score_train)"
      ],
      "metadata": {
        "colab": {
          "base_uri": "https://localhost:8080/"
        },
        "id": "Cdj5-xZbddUT",
        "outputId": "baee3241-5235-475e-b50b-08bc8e4bbc43"
      },
      "execution_count": 64,
      "outputs": [
        {
          "output_type": "stream",
          "name": "stdout",
          "text": [
            "Metrics on Training Set\n",
            "Accuracy:  0.7669491525423728\n",
            "AUC score:  0.7165318957771787\n",
            "F1 score:  0.8328267477203647\n"
          ]
        }
      ]
    },
    {
      "cell_type": "code",
      "source": [
        "accuracy_score(y_test, grid_predictions)"
      ],
      "metadata": {
        "colab": {
          "base_uri": "https://localhost:8080/"
        },
        "id": "MpTjhsghkkN3",
        "outputId": "11548209-950d-4c6a-d8c6-e36376712081"
      },
      "execution_count": 65,
      "outputs": [
        {
          "output_type": "execute_result",
          "data": {
            "text/plain": [
              "0.7833333333333333"
            ]
          },
          "metadata": {},
          "execution_count": 65
        }
      ]
    },
    {
      "cell_type": "code",
      "source": [
        "fpr, tpr, threshold = roc_curve(y_test, grid_predictions)"
      ],
      "metadata": {
        "id": "qDQZXa0KEixU"
      },
      "execution_count": 66,
      "outputs": []
    },
    {
      "cell_type": "code",
      "source": [
        "auc(fpr, tpr)"
      ],
      "metadata": {
        "id": "eMazYeo8Eh8G",
        "outputId": "3eb96880-d2aa-419f-c661-5ccb72e263b5",
        "colab": {
          "base_uri": "https://localhost:8080/"
        }
      },
      "execution_count": 67,
      "outputs": [
        {
          "output_type": "execute_result",
          "data": {
            "text/plain": [
              "0.688782489740082"
            ]
          },
          "metadata": {},
          "execution_count": 67
        }
      ]
    },
    {
      "cell_type": "code",
      "source": [
        "f1_score_test = f1_score(y_test, grid_predictions, zero_division=1)\n",
        "f1_score_test"
      ],
      "metadata": {
        "id": "S3f2NwO8JH3Z",
        "outputId": "2f7ec1cf-b066-41a7-baff-7c6b603ecf74",
        "colab": {
          "base_uri": "https://localhost:8080/"
        }
      },
      "execution_count": 68,
      "outputs": [
        {
          "output_type": "execute_result",
          "data": {
            "text/plain": [
              "0.8571428571428572"
            ]
          },
          "metadata": {},
          "execution_count": 68
        }
      ]
    }
  ]
}