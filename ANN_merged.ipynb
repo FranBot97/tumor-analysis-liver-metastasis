{
  "nbformat": 4,
  "nbformat_minor": 0,
  "metadata": {
    "colab": {
      "provenance": [],
      "gpuType": "T4"
    },
    "kernelspec": {
      "name": "python3",
      "display_name": "Python 3"
    },
    "language_info": {
      "name": "python"
    },
    "accelerator": "GPU",
    "gpuClass": "standard"
  },
  "cells": [
    {
      "cell_type": "code",
      "execution_count": 1,
      "metadata": {
        "colab": {
          "base_uri": "https://localhost:8080/"
        },
        "id": "l4E5Yo_FZGvH",
        "outputId": "d205bbb9-5bbb-40ac-f66a-ea46e10e7e3e"
      },
      "outputs": [
        {
          "output_type": "stream",
          "name": "stdout",
          "text": [
            "Mounted at /content/gdrive\n"
          ]
        }
      ],
      "source": [
        "from google.colab import drive\n",
        "\n",
        "drive.mount('/content/gdrive')"
      ]
    },
    {
      "cell_type": "code",
      "source": [
        "%cd 'gdrive/MyDrive/Colab Notebooks/CHL/semester-project'\n",
        "%ls"
      ],
      "metadata": {
        "colab": {
          "base_uri": "https://localhost:8080/"
        },
        "id": "G3x2d-3jj1Ka",
        "outputId": "25554f5d-7339-4947-c499-35b7a317ad1d"
      },
      "execution_count": 2,
      "outputs": [
        {
          "output_type": "stream",
          "name": "stdout",
          "text": [
            "/content/gdrive/MyDrive/Colab Notebooks/CHL/semester-project\n",
            "ANN-merged.ipynb  ANN-mut-complete.ipynb  \u001b[0m\u001b[01;34mdataset\u001b[0m/\n"
          ]
        }
      ]
    },
    {
      "cell_type": "markdown",
      "source": [
        "## Libraries"
      ],
      "metadata": {
        "id": "2Q2tTdYIkAiB"
      }
    },
    {
      "cell_type": "code",
      "source": [
        "import tensorflow as tf\n",
        "from tensorflow.keras.callbacks import EarlyStopping\n",
        "from sklearn.model_selection import train_test_split, GridSearchCV\n",
        "from sklearn.preprocessing import MinMaxScaler\n",
        "from tensorflow.keras.wrappers.scikit_learn import KerasClassifier\n",
        "from sklearn.metrics import accuracy_score, roc_curve, auc, f1_score\n",
        "import numpy as np\n",
        "import pandas as pd\n"
      ],
      "metadata": {
        "id": "XD40P9Vej_KC"
      },
      "execution_count": 3,
      "outputs": []
    },
    {
      "cell_type": "code",
      "source": [
        "np.random.seed(42)"
      ],
      "metadata": {
        "id": "CWIsdkBlkGxi"
      },
      "execution_count": 4,
      "outputs": []
    },
    {
      "cell_type": "markdown",
      "source": [
        "## Data Processing"
      ],
      "metadata": {
        "id": "DRhc1_x3kJCZ"
      }
    },
    {
      "cell_type": "code",
      "source": [
        "df = pd.read_csv(\"dataset/merged.csv\", index_col=False)\n",
        "df = df.drop(\"Unnamed: 0\", axis=1)\n",
        "# print(df.head())\n",
        "\n",
        "# exit()\n",
        "\n",
        "df = df.loc[:, ~df.columns.isin(['AccessionNumber', '1stpfs event', 'dpfs', 'dos'])]\n",
        "# df = df[df[\"safety\"]==1] #select safety analysis\n",
        "# df = df.drop('PatientCode',axis=1) #drop one row with Nan value\n",
        "# df = df[~df.isin([-99]).any(axis=1)] #drop any rows with -99 value\n",
        "# # For now, remove all rows with Nan values\n",
        "# # remove rows with NaN values, it's actually only one row\n",
        "# df = df.dropna()\n",
        "\n",
        "print(len(df))"
      ],
      "metadata": {
        "colab": {
          "base_uri": "https://localhost:8080/"
        },
        "id": "OCbQ2ZK2kKj4",
        "outputId": "e574620b-abb5-4191-9ba0-55c54c45b8f9"
      },
      "execution_count": 5,
      "outputs": [
        {
          "output_type": "stream",
          "name": "stdout",
          "text": [
            "296\n"
          ]
        }
      ]
    },
    {
      "cell_type": "code",
      "source": [
        "train, test = train_test_split(df, test_size=0.2, random_state=42)\n",
        "# train, validation = train_test_split(train, teast_size=0.1, random_state=42)"
      ],
      "metadata": {
        "id": "RmTipjvCkPXR"
      },
      "execution_count": 6,
      "outputs": []
    },
    {
      "cell_type": "code",
      "source": [
        "# Separate the target variable from the features\n",
        "y_train = train['os event']\n",
        "X_train = train.drop('os event', axis=1)\n",
        "# y_val = validation[\"os event\"]\n",
        "# X_val = validation.drop(\"os event\", axis=1)\n",
        "y_test = test['os event']\n",
        "X_test = test.drop('os event', axis=1)"
      ],
      "metadata": {
        "id": "mupyoUJlkP42"
      },
      "execution_count": 7,
      "outputs": []
    },
    {
      "cell_type": "markdown",
      "source": [
        "## Normalizing Data"
      ],
      "metadata": {
        "id": "3e1IbP8ukTCf"
      }
    },
    {
      "cell_type": "code",
      "source": [
        "scaler = MinMaxScaler()\n",
        "X_train = scaler.fit_transform(X_train)\n",
        "# X_val = scaler.transform(X_val)\n",
        "X_test = scaler.transform(X_test)"
      ],
      "metadata": {
        "id": "96pciRRmkVMW"
      },
      "execution_count": 8,
      "outputs": []
    },
    {
      "cell_type": "markdown",
      "source": [
        "## ANN Model"
      ],
      "metadata": {
        "id": "tKoaMZRokY1M"
      }
    },
    {
      "cell_type": "code",
      "source": [
        "early_stopping_monitor = EarlyStopping(\n",
        "    monitor=\"val_loss\",\n",
        "    verbose=1,\n",
        "    patience=5,\n",
        "    restore_best_weights=True\n",
        ")"
      ],
      "metadata": {
        "id": "57V32D9hkcOB"
      },
      "execution_count": 9,
      "outputs": []
    },
    {
      "cell_type": "code",
      "source": [
        "num_features = X_train.shape[1]\n",
        "\n",
        "def create_model():\n",
        "  model = tf.keras.Sequential()\n",
        "\n",
        "  model.add(tf.keras.Input((num_features,)))\n",
        "  model.add(tf.keras.layers.Dense(8))\n",
        "  model.add(tf.keras.layers.Activation(\"relu\"))\n",
        "  model.add(tf.keras.layers.Dense(16))\n",
        "  model.add(tf.keras.layers.Activation(\"relu\"))\n",
        "  model.add(tf.keras.layers.Dense(16))\n",
        "  model.add(tf.keras.layers.Activation(\"relu\"))\n",
        "  model.add(tf.keras.layers.Dense(8))\n",
        "  model.add(tf.keras.layers.Activation(\"relu\"))\n",
        "  model.add(tf.keras.layers.Dense(1))\n",
        "  model.add(tf.keras.layers.Activation(\"sigmoid\"))\n",
        "\n",
        "  model.compile(loss='binary_crossentropy', optimizer='adam', metrics=['accuracy'])\n",
        "\n",
        "  return model"
      ],
      "metadata": {
        "id": "c37kSMHOkcLA"
      },
      "execution_count": 10,
      "outputs": []
    },
    {
      "cell_type": "code",
      "source": [
        "model = KerasClassifier(build_fn=create_model, verbose=1)\n",
        "# define the grid search parameters\n",
        "batch_size = [4, 8, 16, 32, 64]\n",
        "epochs = [5, 7, 10, 12, 15, 17, 20]\n",
        "param_grid = dict(batch_size=batch_size, epochs=epochs)\n",
        "\n",
        "\n",
        "# model_history = model.fit(X_train, y_train, batch_size=32, epochs=20, validation_data=(X_val, y_val), callbacks=[early_stopping_monitor])\n",
        "\n",
        "\n",
        "grid = GridSearchCV(estimator=model, param_grid=param_grid, n_jobs=-1, cv=3)\n",
        "grid_result = grid.fit(X_train, y_train)\n",
        "# summarize results\n",
        "print(\"Best: %f using %s\" % (grid_result.best_score_, grid_result.best_params_))\n",
        "means = grid_result.cv_results_['mean_test_score']\n",
        "stds = grid_result.cv_results_['std_test_score']\n",
        "params = grid_result.cv_results_['params']\n",
        "for mean, stdev, param in zip(means, stds, params):\n",
        "    print(\"%f (%f) with: %r\" % (mean, stdev, param))"
      ],
      "metadata": {
        "colab": {
          "base_uri": "https://localhost:8080/"
        },
        "id": "BRZYWma_kcIC",
        "outputId": "b0b0be3c-0d14-4b63-ad91-c2d771aa8a76"
      },
      "execution_count": 11,
      "outputs": [
        {
          "output_type": "stream",
          "name": "stderr",
          "text": [
            "<ipython-input-11-7a9a9f458f0e>:1: DeprecationWarning: KerasClassifier is deprecated, use Sci-Keras (https://github.com/adriangb/scikeras) instead. See https://www.adriangb.com/scikeras/stable/migration.html for help migrating.\n",
            "  model = KerasClassifier(build_fn=create_model, verbose=1)\n",
            "/usr/local/lib/python3.10/dist-packages/joblib/externals/loky/process_executor.py:700: UserWarning: A worker stopped while some jobs were given to the executor. This can be caused by a too short worker timeout or by a memory leak.\n",
            "  warnings.warn(\n"
          ]
        },
        {
          "output_type": "stream",
          "name": "stdout",
          "text": [
            "Epoch 1/15\n",
            "59/59 [==============================] - 4s 3ms/step - loss: 0.6894 - accuracy: 0.6864\n",
            "Epoch 2/15\n",
            "59/59 [==============================] - 0s 3ms/step - loss: 0.6794 - accuracy: 0.6780\n",
            "Epoch 3/15\n",
            "59/59 [==============================] - 0s 3ms/step - loss: 0.6641 - accuracy: 0.6737\n",
            "Epoch 4/15\n",
            "59/59 [==============================] - 0s 3ms/step - loss: 0.6450 - accuracy: 0.6737\n",
            "Epoch 5/15\n",
            "59/59 [==============================] - 0s 3ms/step - loss: 0.6211 - accuracy: 0.6737\n",
            "Epoch 6/15\n",
            "59/59 [==============================] - 0s 3ms/step - loss: 0.6011 - accuracy: 0.6822\n",
            "Epoch 7/15\n",
            "59/59 [==============================] - 0s 3ms/step - loss: 0.5841 - accuracy: 0.7119\n",
            "Epoch 8/15\n",
            "59/59 [==============================] - 0s 3ms/step - loss: 0.5766 - accuracy: 0.7119\n",
            "Epoch 9/15\n",
            "59/59 [==============================] - 0s 3ms/step - loss: 0.5642 - accuracy: 0.7331\n",
            "Epoch 10/15\n",
            "59/59 [==============================] - 0s 3ms/step - loss: 0.5613 - accuracy: 0.7373\n",
            "Epoch 11/15\n",
            "59/59 [==============================] - 0s 3ms/step - loss: 0.5552 - accuracy: 0.7415\n",
            "Epoch 12/15\n",
            "59/59 [==============================] - 0s 4ms/step - loss: 0.5484 - accuracy: 0.7415\n",
            "Epoch 13/15\n",
            "59/59 [==============================] - 0s 3ms/step - loss: 0.5433 - accuracy: 0.7458\n",
            "Epoch 14/15\n",
            "59/59 [==============================] - 0s 4ms/step - loss: 0.5398 - accuracy: 0.7585\n",
            "Epoch 15/15\n",
            "59/59 [==============================] - 0s 3ms/step - loss: 0.5348 - accuracy: 0.7712\n",
            "Best: 0.720383 using {'batch_size': 4, 'epochs': 15}\n",
            "0.660770 (0.041481) with: {'batch_size': 4, 'epochs': 5}\n",
            "0.673429 (0.054205) with: {'batch_size': 4, 'epochs': 7}\n",
            "0.664936 (0.059115) with: {'batch_size': 4, 'epochs': 10}\n",
            "0.690414 (0.084671) with: {'batch_size': 4, 'epochs': 12}\n",
            "0.720383 (0.047086) with: {'batch_size': 4, 'epochs': 15}\n",
            "0.703235 (0.057785) with: {'batch_size': 4, 'epochs': 17}\n",
            "0.703127 (0.067814) with: {'batch_size': 4, 'epochs': 20}\n",
            "0.673429 (0.054205) with: {'batch_size': 8, 'epochs': 5}\n",
            "0.677702 (0.048673) with: {'batch_size': 8, 'epochs': 7}\n",
            "0.703343 (0.031973) with: {'batch_size': 8, 'epochs': 10}\n",
            "0.690360 (0.064181) with: {'batch_size': 8, 'epochs': 12}\n",
            "0.686141 (0.058861) with: {'batch_size': 8, 'epochs': 15}\n",
            "0.715785 (0.070410) with: {'batch_size': 8, 'epochs': 17}\n",
            "0.720167 (0.054686) with: {'batch_size': 8, 'epochs': 20}\n",
            "0.669209 (0.053744) with: {'batch_size': 16, 'epochs': 5}\n",
            "0.673429 (0.054205) with: {'batch_size': 16, 'epochs': 7}\n",
            "0.673429 (0.054205) with: {'batch_size': 16, 'epochs': 10}\n",
            "0.677648 (0.059046) with: {'batch_size': 16, 'epochs': 12}\n",
            "0.664990 (0.048742) with: {'batch_size': 16, 'epochs': 15}\n",
            "0.720275 (0.068028) with: {'batch_size': 16, 'epochs': 17}\n",
            "0.690577 (0.030878) with: {'batch_size': 16, 'epochs': 20}\n",
            "0.673429 (0.054205) with: {'batch_size': 32, 'epochs': 5}\n",
            "0.673429 (0.054205) with: {'batch_size': 32, 'epochs': 7}\n",
            "0.673429 (0.054205) with: {'batch_size': 32, 'epochs': 10}\n",
            "0.673429 (0.054205) with: {'batch_size': 32, 'epochs': 12}\n",
            "0.673429 (0.054205) with: {'batch_size': 32, 'epochs': 15}\n",
            "0.673429 (0.054205) with: {'batch_size': 32, 'epochs': 17}\n",
            "0.669209 (0.053744) with: {'batch_size': 32, 'epochs': 20}\n",
            "0.673429 (0.051164) with: {'batch_size': 64, 'epochs': 5}\n",
            "0.677702 (0.048673) with: {'batch_size': 64, 'epochs': 7}\n",
            "0.677648 (0.059046) with: {'batch_size': 64, 'epochs': 10}\n",
            "0.669209 (0.053744) with: {'batch_size': 64, 'epochs': 12}\n",
            "0.673429 (0.054205) with: {'batch_size': 64, 'epochs': 15}\n",
            "0.677648 (0.055309) with: {'batch_size': 64, 'epochs': 17}\n",
            "0.677648 (0.059046) with: {'batch_size': 64, 'epochs': 20}\n"
          ]
        }
      ]
    },
    {
      "cell_type": "code",
      "source": [
        "# model.summary()\n",
        "print(\"Tuned ANN Parameters: {}\".format(grid_result.best_params_))\n",
        "print(\"Best score on validation is {}\".format(grid_result.best_score_))\n",
        "grid_predictions = grid_result.predict(X_test)"
      ],
      "metadata": {
        "colab": {
          "base_uri": "https://localhost:8080/"
        },
        "id": "SaEMUAhrkaKc",
        "outputId": "d00b5dc5-d1b8-45cf-ba6b-b74cb76fe498"
      },
      "execution_count": 12,
      "outputs": [
        {
          "output_type": "stream",
          "name": "stdout",
          "text": [
            "Tuned ANN Parameters: {'batch_size': 4, 'epochs': 15}\n",
            "Best score on validation is 0.7203829884529114\n",
            "2/2 [==============================] - 0s 4ms/step\n"
          ]
        }
      ]
    },
    {
      "cell_type": "code",
      "source": [
        "accuracy_score(y_test, grid_predictions)"
      ],
      "metadata": {
        "colab": {
          "base_uri": "https://localhost:8080/"
        },
        "id": "MpTjhsghkkN3",
        "outputId": "0c986a86-4423-4db8-b893-c993ee562c07"
      },
      "execution_count": 13,
      "outputs": [
        {
          "output_type": "execute_result",
          "data": {
            "text/plain": [
              "0.7833333333333333"
            ]
          },
          "metadata": {},
          "execution_count": 13
        }
      ]
    },
    {
      "cell_type": "code",
      "source": [
        "fpr, tpr, threshold = roc_curve(y_test, grid_predictions)"
      ],
      "metadata": {
        "id": "qDQZXa0KEixU"
      },
      "execution_count": 14,
      "outputs": []
    },
    {
      "cell_type": "code",
      "source": [
        "auc(fpr, tpr)"
      ],
      "metadata": {
        "id": "eMazYeo8Eh8G",
        "outputId": "a8838f77-0f1a-4d4f-fd6e-3d665d7ac490",
        "colab": {
          "base_uri": "https://localhost:8080/"
        }
      },
      "execution_count": 15,
      "outputs": [
        {
          "output_type": "execute_result",
          "data": {
            "text/plain": [
              "0.6709986320109438"
            ]
          },
          "metadata": {},
          "execution_count": 15
        }
      ]
    },
    {
      "cell_type": "code",
      "source": [
        "f1_score(y_test, grid_predictions, zero_division=1)"
      ],
      "metadata": {
        "id": "S3f2NwO8JH3Z",
        "outputId": "d33d148c-65aa-4df3-9f6b-e88659dea25f",
        "colab": {
          "base_uri": "https://localhost:8080/"
        }
      },
      "execution_count": 16,
      "outputs": [
        {
          "output_type": "execute_result",
          "data": {
            "text/plain": [
              "0.8602150537634408"
            ]
          },
          "metadata": {},
          "execution_count": 16
        }
      ]
    }
  ]
}